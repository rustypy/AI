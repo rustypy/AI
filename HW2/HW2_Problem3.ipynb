{
  "nbformat": 4,
  "nbformat_minor": 0,
  "metadata": {
    "colab": {
      "name": "HW2_Problem3",
      "provenance": []
    },
    "kernelspec": {
      "name": "python3",
      "display_name": "Python 3"
    },
    "accelerator": "GPU"
  },
  "cells": [
    {
      "cell_type": "markdown",
      "metadata": {
        "id": "RBODcEyc5fmz",
        "colab_type": "text"
      },
      "source": [
        "# HW2 Problem 3 by Anthony Hevia"
      ]
    },
    {
      "cell_type": "markdown",
      "metadata": {
        "id": "l34GNy7tyNks",
        "colab_type": "text"
      },
      "source": [
        "## Loading and processing the CIFAR10 data set"
      ]
    },
    {
      "cell_type": "code",
      "metadata": {
        "id": "FSJyddqGexl5",
        "colab_type": "code",
        "colab": {}
      },
      "source": [
        "import tensorflow as tf\n",
        "from tensorflow import keras\n",
        "from keras.datasets import cifar10\n",
        "from keras.utils import to_categorical\n",
        "from keras import optimizers, layers, models\n",
        "from keras.layers import Dense\n",
        "from keras.preprocessing.image import ImageDataGenerator\n",
        "from keras.preprocessing import image\n",
        "import matplotlib.pyplot as plt\n",
        "import numpy as np\n",
        "\n",
        "(train_images, train_labels), (test_images, test_labels) = cifar10.load_data()\n",
        "train_images = train_images / 255.0\n",
        "test_images = test_images / 255.0\n",
        "\n",
        "train_labels = to_categorical(train_labels)\n",
        "test_labels = to_categorical(test_labels)\n",
        "\n",
        "# Sources used: https://machinelearningmastery.com/how-to-develop-a-cnn-from-scratch-for-cifar-10-photo-classification/\n",
        "# ConvNets from Wocjan's notes were also used"
      ],
      "execution_count": 0,
      "outputs": []
    },
    {
      "cell_type": "markdown",
      "metadata": {
        "id": "rt44vyY1xW9b",
        "colab_type": "text"
      },
      "source": [
        "# Goodfit model"
      ]
    },
    {
      "cell_type": "markdown",
      "metadata": {
        "id": "oDeCLDW1CPeA",
        "colab_type": "text"
      },
      "source": [
        "## Build and train the model"
      ]
    },
    {
      "cell_type": "code",
      "metadata": {
        "id": "TIb4i7z2CStK",
        "colab_type": "code",
        "colab": {
          "base_uri": "https://localhost:8080/",
          "height": 706
        },
        "outputId": "b6d274cf-a8e2-4c7f-9c5f-208b0e033103"
      },
      "source": [
        "model = models.Sequential()\n",
        "model.add(layers.Conv2D(32, (3, 3), activation='relu', kernel_initializer='he_uniform', padding='same', input_shape=(32, 32, 3)))\n",
        "model.add(layers.Conv2D(32, (3, 3), activation='relu', kernel_initializer='he_uniform', padding='same'))\n",
        "model.add(layers.MaxPooling2D((2, 2)))\n",
        "model.add(layers.Conv2D(64, (3, 3), activation='relu', kernel_initializer='he_uniform', padding='same'))\n",
        "model.add(layers.Conv2D(64, (3, 3), activation='relu', kernel_initializer='he_uniform', padding='same'))\n",
        "model.add(layers.MaxPooling2D(2, 2))\n",
        "model.add(layers.Conv2D(128, (3, 3), activation='relu', kernel_initializer='he_uniform', padding='same'))\n",
        "model.add(layers.Conv2D(128, (3, 3), activation='relu', kernel_initializer='he_uniform', padding='same'))\n",
        "model.add(layers.MaxPooling2D(2, 2))\n",
        "model.add(layers.Flatten())\n",
        "model.add(layers.Dropout(0.4))\n",
        "model.add(Dense(128, activation='relu', kernel_initializer='he_uniform'))\n",
        "model.add(layers.Dense(10, activation='softmax'))\n",
        "\n",
        "opt = optimizers.SGD(lr=0.001, momentum=0.9)\n",
        "model.compile(\n",
        "    optimizer=opt, \n",
        "    loss='categorical_crossentropy', \n",
        "    metrics=['accuracy']\n",
        ")\n",
        "\n",
        "epochs = 20\n",
        "history = model.fit(\n",
        "    train_images, \n",
        "    train_labels, \n",
        "    epochs=epochs, \n",
        "    batch_size=64,\n",
        "    verbose=1,\n",
        "    validation_data=(test_images, test_labels)\n",
        ")"
      ],
      "execution_count": 42,
      "outputs": [
        {
          "output_type": "stream",
          "text": [
            "Train on 50000 samples, validate on 10000 samples\n",
            "Epoch 1/20\n",
            "50000/50000 [==============================] - 10s 190us/step - loss: 1.8579 - acc: 0.3173 - val_loss: 1.5530 - val_acc: 0.4315\n",
            "Epoch 2/20\n",
            "50000/50000 [==============================] - 8s 163us/step - loss: 1.5113 - acc: 0.4492 - val_loss: 1.4371 - val_acc: 0.4736\n",
            "Epoch 3/20\n",
            "50000/50000 [==============================] - 8s 162us/step - loss: 1.3703 - acc: 0.5023 - val_loss: 1.2743 - val_acc: 0.5491\n",
            "Epoch 4/20\n",
            "50000/50000 [==============================] - 8s 162us/step - loss: 1.2711 - acc: 0.5430 - val_loss: 1.1797 - val_acc: 0.5746\n",
            "Epoch 5/20\n",
            "50000/50000 [==============================] - 8s 161us/step - loss: 1.1805 - acc: 0.5780 - val_loss: 1.0796 - val_acc: 0.6168\n",
            "Epoch 6/20\n",
            "50000/50000 [==============================] - 8s 162us/step - loss: 1.1036 - acc: 0.6069 - val_loss: 1.0816 - val_acc: 0.6126\n",
            "Epoch 7/20\n",
            "50000/50000 [==============================] - 8s 163us/step - loss: 1.0350 - acc: 0.6326 - val_loss: 0.9872 - val_acc: 0.6510\n",
            "Epoch 8/20\n",
            "50000/50000 [==============================] - 8s 162us/step - loss: 0.9744 - acc: 0.6551 - val_loss: 0.9399 - val_acc: 0.6695\n",
            "Epoch 9/20\n",
            "50000/50000 [==============================] - 8s 162us/step - loss: 0.9288 - acc: 0.6718 - val_loss: 0.8740 - val_acc: 0.6914\n",
            "Epoch 10/20\n",
            "50000/50000 [==============================] - 8s 163us/step - loss: 0.8846 - acc: 0.6890 - val_loss: 0.8719 - val_acc: 0.6931\n",
            "Epoch 11/20\n",
            "50000/50000 [==============================] - 8s 161us/step - loss: 0.8452 - acc: 0.7028 - val_loss: 0.8322 - val_acc: 0.7086\n",
            "Epoch 12/20\n",
            "50000/50000 [==============================] - 8s 161us/step - loss: 0.8125 - acc: 0.7162 - val_loss: 0.8001 - val_acc: 0.7207\n",
            "Epoch 13/20\n",
            "50000/50000 [==============================] - 8s 161us/step - loss: 0.7706 - acc: 0.7300 - val_loss: 0.7862 - val_acc: 0.7238\n",
            "Epoch 14/20\n",
            "50000/50000 [==============================] - 8s 161us/step - loss: 0.7464 - acc: 0.7382 - val_loss: 0.7764 - val_acc: 0.7283\n",
            "Epoch 15/20\n",
            "50000/50000 [==============================] - 8s 161us/step - loss: 0.7180 - acc: 0.7487 - val_loss: 0.7614 - val_acc: 0.7379\n",
            "Epoch 16/20\n",
            "50000/50000 [==============================] - 8s 161us/step - loss: 0.6915 - acc: 0.7577 - val_loss: 0.7538 - val_acc: 0.7383\n",
            "Epoch 17/20\n",
            "50000/50000 [==============================] - 8s 162us/step - loss: 0.6714 - acc: 0.7657 - val_loss: 0.7495 - val_acc: 0.7388\n",
            "Epoch 18/20\n",
            "50000/50000 [==============================] - 8s 163us/step - loss: 0.6477 - acc: 0.7753 - val_loss: 0.7254 - val_acc: 0.7533\n",
            "Epoch 19/20\n",
            "50000/50000 [==============================] - 8s 161us/step - loss: 0.6257 - acc: 0.7805 - val_loss: 0.6944 - val_acc: 0.7613\n",
            "Epoch 20/20\n",
            "50000/50000 [==============================] - 8s 160us/step - loss: 0.6045 - acc: 0.7888 - val_loss: 0.6970 - val_acc: 0.7601\n"
          ],
          "name": "stdout"
        }
      ]
    },
    {
      "cell_type": "markdown",
      "metadata": {
        "id": "XmTciPq_bZRn",
        "colab_type": "text"
      },
      "source": [
        "## Training/test loss/accuracy during training"
      ]
    },
    {
      "cell_type": "code",
      "metadata": {
        "id": "rxq1eioWbZ9C",
        "colab_type": "code",
        "colab": {}
      },
      "source": [
        "history_dict = history.history\n",
        "loss_values = history_dict['loss']\n",
        "test_loss_values = history_dict['val_loss']\n",
        "epochs_range = range(1, epochs+1)"
      ],
      "execution_count": 0,
      "outputs": []
    },
    {
      "cell_type": "code",
      "metadata": {
        "id": "FphNyJxjcxKL",
        "colab_type": "code",
        "outputId": "bda43a84-5e75-426f-b2b1-d1453a39cd19",
        "colab": {
          "base_uri": "https://localhost:8080/",
          "height": 295
        }
      },
      "source": [
        "plt.plot(epochs_range, loss_values, 'bo', label='Training loss')\n",
        "plt.plot(epochs_range, test_loss_values, 'ro', label='Test loss')\n",
        "plt.title('Training and test loss')\n",
        "plt.xlabel('Epochs')\n",
        "plt.ylabel('Loss')\n",
        "plt.legend()\n",
        "plt.show()"
      ],
      "execution_count": 44,
      "outputs": [
        {
          "output_type": "display_data",
          "data": {
            "image/png": "[encoded data removed]",
            "text/plain": [
              "<Figure size 432x288 with 1 Axes>"
            ]
          },
          "metadata": {
            "tags": []
          }
        }
      ]
    },
    {
      "cell_type": "code",
      "metadata": {
        "id": "loLU2szUc5KN",
        "colab_type": "code",
        "colab": {}
      },
      "source": [
        "acc_values = history_dict['acc']\n",
        "test_acc_values = history_dict['val_acc']"
      ],
      "execution_count": 0,
      "outputs": []
    },
    {
      "cell_type": "code",
      "metadata": {
        "id": "xUk_DnRic6dd",
        "colab_type": "code",
        "outputId": "a6c328ed-2c05-4917-8d0e-4f7405ed0df0",
        "colab": {
          "base_uri": "https://localhost:8080/",
          "height": 295
        }
      },
      "source": [
        "plt.plot(epochs_range, acc_values, 'bo', label='Training accuracy')\n",
        "plt.plot(epochs_range, test_acc_values, 'ro', label='Test accuracy')\n",
        "plt.title('Training and test accuracy')\n",
        "plt.xlabel('Epochs')\n",
        "plt.ylabel('Accuracy')\n",
        "plt.legend()\n",
        "plt.show()"
      ],
      "execution_count": 46,
      "outputs": [
        {
          "output_type": "display_data",
          "data": {
            "image/png": "[encoded data removed]",
            "text/plain": [
              "<Figure size 432x288 with 1 Axes>"
            ]
          },
          "metadata": {
            "tags": []
          }
        }
      ]
    },
    {
      "cell_type": "markdown",
      "metadata": {
        "colab_type": "text",
        "id": "_vfRDA19etan"
      },
      "source": [
        "# Overfit model"
      ]
    },
    {
      "cell_type": "markdown",
      "metadata": {
        "colab_type": "text",
        "id": "WPV-Yb1Tetar"
      },
      "source": [
        "## Build and train the model"
      ]
    },
    {
      "cell_type": "code",
      "metadata": {
        "colab_type": "code",
        "id": "UmwgicsVetat",
        "colab": {
          "base_uri": "https://localhost:8080/",
          "height": 706
        },
        "outputId": "5e4cebb9-8115-405d-f9ca-c5adb15d0e87"
      },
      "source": [
        "model_overfit = models.Sequential()\n",
        "model_overfit.add(layers.Conv2D(32, (3, 3), activation='relu', kernel_initializer='he_uniform', padding='same', input_shape=(32, 32, 3)))\n",
        "model_overfit.add(layers.Conv2D(32, (3, 3), activation='relu', kernel_initializer='he_uniform', padding='same'))\n",
        "model_overfit.add(layers.MaxPooling2D((2, 2)))\n",
        "model_overfit.add(layers.Flatten())\n",
        "model_overfit.add(layers.Dense(128, activation='relu', kernel_initializer='he_uniform'))\n",
        "model_overfit.add(layers.Dense(10, activation='softmax'))\n",
        "\n",
        "opt = optimizers.SGD(lr=0.001, momentum=0.9)\n",
        "model_overfit.compile(\n",
        "    optimizer=opt, \n",
        "    loss='categorical_crossentropy', \n",
        "    metrics=['accuracy']\n",
        ")\n",
        "\n",
        "epochs = 20\n",
        "history_overfit = model_overfit.fit(\n",
        "    train_images, \n",
        "    train_labels, \n",
        "    epochs=epochs, \n",
        "    batch_size=64, \n",
        "    validation_data=(test_images, test_labels)\n",
        ")"
      ],
      "execution_count": 7,
      "outputs": [
        {
          "output_type": "stream",
          "text": [
            "Train on 50000 samples, validate on 10000 samples\n",
            "Epoch 1/20\n",
            "50000/50000 [==============================] - 6s 120us/step - loss: 1.7749 - acc: 0.3633 - val_loss: 1.5871 - val_acc: 0.4329\n",
            "Epoch 2/20\n",
            "50000/50000 [==============================] - 6s 110us/step - loss: 1.4480 - acc: 0.4865 - val_loss: 1.3436 - val_acc: 0.5257\n",
            "Epoch 3/20\n",
            "50000/50000 [==============================] - 6s 110us/step - loss: 1.2941 - acc: 0.5429 - val_loss: 1.2355 - val_acc: 0.5633\n",
            "Epoch 4/20\n",
            "50000/50000 [==============================] - 6s 110us/step - loss: 1.1820 - acc: 0.5860 - val_loss: 1.1571 - val_acc: 0.5899\n",
            "Epoch 5/20\n",
            "50000/50000 [==============================] - 5s 109us/step - loss: 1.0919 - acc: 0.6172 - val_loss: 1.1279 - val_acc: 0.6017\n",
            "Epoch 6/20\n",
            "50000/50000 [==============================] - 6s 110us/step - loss: 1.0192 - acc: 0.6430 - val_loss: 1.0731 - val_acc: 0.6206\n",
            "Epoch 7/20\n",
            "50000/50000 [==============================] - 5s 108us/step - loss: 0.9582 - acc: 0.6674 - val_loss: 1.0193 - val_acc: 0.6378\n",
            "Epoch 8/20\n",
            "50000/50000 [==============================] - 5s 109us/step - loss: 0.9045 - acc: 0.6854 - val_loss: 1.0194 - val_acc: 0.6415\n",
            "Epoch 9/20\n",
            "50000/50000 [==============================] - 5s 110us/step - loss: 0.8570 - acc: 0.7024 - val_loss: 0.9726 - val_acc: 0.6563\n",
            "Epoch 10/20\n",
            "50000/50000 [==============================] - 6s 112us/step - loss: 0.8087 - acc: 0.7216 - val_loss: 0.9834 - val_acc: 0.6602\n",
            "Epoch 11/20\n",
            "50000/50000 [==============================] - 6s 113us/step - loss: 0.7711 - acc: 0.7326 - val_loss: 0.9865 - val_acc: 0.6571\n",
            "Epoch 12/20\n",
            "50000/50000 [==============================] - 6s 111us/step - loss: 0.7269 - acc: 0.7486 - val_loss: 0.9564 - val_acc: 0.6668\n",
            "Epoch 13/20\n",
            "50000/50000 [==============================] - 5s 109us/step - loss: 0.6847 - acc: 0.7650 - val_loss: 0.9673 - val_acc: 0.6756\n",
            "Epoch 14/20\n",
            "50000/50000 [==============================] - 5s 110us/step - loss: 0.6465 - acc: 0.7786 - val_loss: 0.9769 - val_acc: 0.6712\n",
            "Epoch 15/20\n",
            "50000/50000 [==============================] - 6s 112us/step - loss: 0.6010 - acc: 0.7962 - val_loss: 0.9768 - val_acc: 0.6706\n",
            "Epoch 16/20\n",
            "50000/50000 [==============================] - 5s 110us/step - loss: 0.5636 - acc: 0.8094 - val_loss: 0.9834 - val_acc: 0.6735\n",
            "Epoch 17/20\n",
            "50000/50000 [==============================] - 6s 111us/step - loss: 0.5238 - acc: 0.8224 - val_loss: 1.0051 - val_acc: 0.6669\n",
            "Epoch 18/20\n",
            "50000/50000 [==============================] - 5s 110us/step - loss: 0.4826 - acc: 0.8374 - val_loss: 1.0348 - val_acc: 0.6659\n",
            "Epoch 19/20\n",
            "50000/50000 [==============================] - 5s 110us/step - loss: 0.4394 - acc: 0.8543 - val_loss: 1.0614 - val_acc: 0.6718\n",
            "Epoch 20/20\n",
            "50000/50000 [==============================] - 5s 110us/step - loss: 0.3986 - acc: 0.8688 - val_loss: 1.0762 - val_acc: 0.6700\n"
          ],
          "name": "stdout"
        }
      ]
    },
    {
      "cell_type": "markdown",
      "metadata": {
        "colab_type": "text",
        "id": "5quUriEyetbT"
      },
      "source": [
        "## Training/test loss/accuracy during training"
      ]
    },
    {
      "cell_type": "code",
      "metadata": {
        "colab_type": "code",
        "id": "B6EmyTfzetbW",
        "colab": {
          "base_uri": "https://localhost:8080/",
          "height": 295
        },
        "outputId": "8134ecc8-924d-4702-9604-8e05be8c0ca9"
      },
      "source": [
        "history_dict_overfit = history_overfit.history\n",
        "loss_values_overfit = history_dict_overfit['loss']\n",
        "test_loss_values_overfit = history_dict_overfit['val_loss']\n",
        "epochs_range = range(1, epochs+1)\n",
        "plt.plot(epochs_range, loss_values_overfit, 'bo', label='Training loss')\n",
        "plt.plot(epochs_range, test_loss_values_overfit, 'ro', label='Test loss')\n",
        "plt.title('Training and test loss')\n",
        "plt.xlabel('Epochs')\n",
        "plt.ylabel('Loss')\n",
        "plt.legend()\n",
        "plt.show()"
      ],
      "execution_count": 8,
      "outputs": [
        {
          "output_type": "display_data",
          "data": {
            "image/png": "[encoded data removed]",
            "text/plain": [
              "<Figure size 432x288 with 1 Axes>"
            ]
          },
          "metadata": {
            "tags": []
          }
        }
      ]
    },
    {
      "cell_type": "code",
      "metadata": {
        "colab_type": "code",
        "id": "eRtjTti-etbr",
        "colab": {
          "base_uri": "https://localhost:8080/",
          "height": 295
        },
        "outputId": "cb7b8b88-544b-4bc5-fcf6-30fb5bc81d30"
      },
      "source": [
        "acc_values_overfit = history_dict_overfit['acc']\n",
        "test_acc_values_overfit = history_dict_overfit['val_acc']\n",
        "plt.plot(epochs_range, acc_values_overfit, 'bo', label='Training accuracy')\n",
        "plt.plot(epochs_range, test_acc_values_overfit, 'ro', label='Test accuracy')\n",
        "plt.title('Training and test accuracy')\n",
        "plt.xlabel('Epochs')\n",
        "plt.ylabel('Accuracy')\n",
        "plt.legend()\n",
        "plt.show()"
      ],
      "execution_count": 9,
      "outputs": [
        {
          "output_type": "display_data",
          "data": {
            "image/png": "[encoded data removed]",
            "text/plain": [
              "<Figure size 432x288 with 1 Axes>"
            ]
          },
          "metadata": {
            "tags": []
          }
        }
      ]
    },
    {
      "cell_type": "markdown",
      "metadata": {
        "colab_type": "text",
        "id": "CDjVZFDMe5aU"
      },
      "source": [
        "# Underfit Model"
      ]
    },
    {
      "cell_type": "markdown",
      "metadata": {
        "colab_type": "text",
        "id": "gMGxJgKxe5ae"
      },
      "source": [
        "## Build and train the model"
      ]
    },
    {
      "cell_type": "code",
      "metadata": {
        "colab_type": "code",
        "id": "XDH_valFe5ai",
        "outputId": "1145671c-ecf7-4f75-ab3a-5be7ec5f6cec",
        "colab": {
          "base_uri": "https://localhost:8080/",
          "height": 554
        }
      },
      "source": [
        "model_underfit = models.Sequential()\n",
        "model_underfit.add(layers.Conv2D(64, (3, 3), activation='tanh', kernel_initializer='he_uniform', padding='same', input_shape=(32, 32, 3)))\n",
        "model_underfit.add(layers.Conv2D(64, (3, 3), activation='relu', kernel_initializer='he_uniform', padding='same'))\n",
        "model_underfit.add(layers.MaxPooling2D((2, 2)))\n",
        "model_underfit.add(layers.Flatten())\n",
        "model_underfit.add(layers.Dropout(0.95))\n",
        "model_underfit.add(layers.Dense(32, activation='sigmoid', kernel_initializer='he_uniform'))\n",
        "model_underfit.add(layers.Dense(10, activation='softmax'))\n",
        "\n",
        "opt = optimizers.SGD(lr=0.001, momentum=0.9)\n",
        "model_underfit.compile(\n",
        "    optimizer=opt, \n",
        "    loss='categorical_crossentropy', \n",
        "    metrics=['accuracy']\n",
        ")\n",
        "\n",
        "epochs = 15\n",
        "history_underfit = model_underfit.fit(\n",
        "    train_images, \n",
        "    train_labels, \n",
        "    epochs=epochs, \n",
        "    batch_size=64, \n",
        "    validation_data=(test_images, test_labels)\n",
        ")"
      ],
      "execution_count": 10,
      "outputs": [
        {
          "output_type": "stream",
          "text": [
            "WARNING:tensorflow:Large dropout rate: 0.95 (>0.5). In TensorFlow 2.x, dropout() uses dropout rate instead of keep_prob. Please ensure that this is intended.\n",
            "Train on 50000 samples, validate on 10000 samples\n",
            "Epoch 1/15\n",
            "50000/50000 [==============================] - 8s 157us/step - loss: 2.1430 - acc: 0.2049 - val_loss: 1.9455 - val_acc: 0.3250\n",
            "Epoch 2/15\n",
            "50000/50000 [==============================] - 7s 148us/step - loss: 1.9206 - acc: 0.3096 - val_loss: 1.7686 - val_acc: 0.3955\n",
            "Epoch 3/15\n",
            "50000/50000 [==============================] - 7s 147us/step - loss: 1.7967 - acc: 0.3603 - val_loss: 1.6757 - val_acc: 0.4173\n",
            "Epoch 4/15\n",
            "50000/50000 [==============================] - 7s 147us/step - loss: 1.7208 - acc: 0.3818 - val_loss: 1.5888 - val_acc: 0.4464\n",
            "Epoch 5/15\n",
            "50000/50000 [==============================] - 7s 147us/step - loss: 1.6613 - acc: 0.3996 - val_loss: 1.5477 - val_acc: 0.4502\n",
            "Epoch 6/15\n",
            "50000/50000 [==============================] - 7s 146us/step - loss: 1.6152 - acc: 0.4154 - val_loss: 1.4875 - val_acc: 0.4789\n",
            "Epoch 7/15\n",
            "50000/50000 [==============================] - 7s 147us/step - loss: 1.5811 - acc: 0.4271 - val_loss: 1.4403 - val_acc: 0.4911\n",
            "Epoch 8/15\n",
            "50000/50000 [==============================] - 7s 149us/step - loss: 1.5538 - acc: 0.4337 - val_loss: 1.4171 - val_acc: 0.4954\n",
            "Epoch 9/15\n",
            "50000/50000 [==============================] - 7s 147us/step - loss: 1.5288 - acc: 0.4456 - val_loss: 1.3776 - val_acc: 0.5114\n",
            "Epoch 10/15\n",
            "50000/50000 [==============================] - 7s 147us/step - loss: 1.5049 - acc: 0.4557 - val_loss: 1.3635 - val_acc: 0.5120\n",
            "Epoch 11/15\n",
            "50000/50000 [==============================] - 7s 147us/step - loss: 1.4886 - acc: 0.4625 - val_loss: 1.3382 - val_acc: 0.5213\n",
            "Epoch 12/15\n",
            "50000/50000 [==============================] - 7s 146us/step - loss: 1.4689 - acc: 0.4698 - val_loss: 1.3119 - val_acc: 0.5392\n",
            "Epoch 13/15\n",
            "50000/50000 [==============================] - 7s 147us/step - loss: 1.4507 - acc: 0.4774 - val_loss: 1.3000 - val_acc: 0.5375\n",
            "Epoch 14/15\n",
            "50000/50000 [==============================] - 7s 146us/step - loss: 1.4392 - acc: 0.4794 - val_loss: 1.2835 - val_acc: 0.5439\n",
            "Epoch 15/15\n",
            "50000/50000 [==============================] - 7s 146us/step - loss: 1.4243 - acc: 0.4873 - val_loss: 1.2671 - val_acc: 0.5482\n"
          ],
          "name": "stdout"
        }
      ]
    },
    {
      "cell_type": "markdown",
      "metadata": {
        "colab_type": "text",
        "id": "hTOKgaPye5a5"
      },
      "source": [
        "## Training/test loss/accuracy during training"
      ]
    },
    {
      "cell_type": "code",
      "metadata": {
        "colab_type": "code",
        "id": "McA6QgPve5a9",
        "colab": {
          "base_uri": "https://localhost:8080/",
          "height": 295
        },
        "outputId": "879c754a-2a72-4943-dae3-721fd6ef6bcd"
      },
      "source": [
        "history_dict_underfit = history_underfit.history\n",
        "loss_values_underfit = history_dict_underfit['loss']\n",
        "test_loss_values_underfit = history_dict_underfit['val_loss']\n",
        "epochs_range = range(1, epochs+1)\n",
        "plt.plot(epochs_range, loss_values_underfit, 'bo', label='Training loss')\n",
        "plt.plot(epochs_range, test_loss_values_underfit, 'ro', label='Test loss')\n",
        "plt.title('Training and test loss')\n",
        "plt.xlabel('Epochs')\n",
        "plt.ylabel('Loss')\n",
        "plt.legend()\n",
        "plt.show()"
      ],
      "execution_count": 11,
      "outputs": [
        {
          "output_type": "display_data",
          "data": {
            "image/png": "[encoded data removed]",
            "text/plain": [
              "<Figure size 432x288 with 1 Axes>"
            ]
          },
          "metadata": {
            "tags": []
          }
        }
      ]
    },
    {
      "cell_type": "code",
      "metadata": {
        "colab_type": "code",
        "id": "jL8XYveae5bG",
        "colab": {
          "base_uri": "https://localhost:8080/",
          "height": 295
        },
        "outputId": "f9e3b849-39d3-4c7c-c8b6-cbaf067a53f0"
      },
      "source": [
        "acc_values_underfit = history_dict_underfit['acc']\n",
        "test_acc_values_underfit = history_dict_underfit['val_acc']\n",
        "plt.plot(epochs_range, acc_values_underfit, 'bo', label='Training accuracy')\n",
        "plt.plot(epochs_range, test_acc_values_underfit, 'ro', label='Test accuracy')\n",
        "plt.title('Training and test accuracy')\n",
        "plt.xlabel('Epochs')\n",
        "plt.ylabel('Accuracy')\n",
        "plt.legend()\n",
        "plt.show()"
      ],
      "execution_count": 12,
      "outputs": [
        {
          "output_type": "display_data",
          "data": {
            "image/png": "[encoded data removed]",
            "text/plain": [
              "<Figure size 432x288 with 1 Axes>"
            ]
          },
          "metadata": {
            "tags": []
          }
        }
      ]
    }
  ]
}