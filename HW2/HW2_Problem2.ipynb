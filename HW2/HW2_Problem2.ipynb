{
  "nbformat": 4,
  "nbformat_minor": 0,
  "metadata": {
    "colab": {
      "name": "HW2_Problem2",
      "provenance": [],
      "collapsed_sections": [
        "2zpnxENIWj4N",
        "MX2EqMuqOskz"
      ],
      "toc_visible": true
    },
    "kernelspec": {
      "name": "python3",
      "display_name": "Python 3"
    },
    "accelerator": "GPU"
  },
  "cells": [
    {
      "cell_type": "markdown",
      "metadata": {
        "id": "rt44vyY1xW9b",
        "colab_type": "text"
      },
      "source": [
        "# HW2 Problem 2 by Anthony Hevia\n"
      ]
    },
    {
      "cell_type": "markdown",
      "metadata": {
        "id": "l34GNy7tyNks",
        "colab_type": "text"
      },
      "source": [
        "## Loading the MNIST fashion data set"
      ]
    },
    {
      "cell_type": "code",
      "metadata": {
        "id": "FSJyddqGexl5",
        "colab_type": "code",
        "outputId": "979fe2a6-7671-48f4-9c46-8dcd8be9e358",
        "colab": {
          "base_uri": "https://localhost:8080/",
          "height": 62
        }
      },
      "source": [
        "import tensorflow as tf\n",
        "from tensorflow import keras\n",
        "import matplotlib.pyplot as plt\n",
        "import numpy as np\n",
        "\n",
        "\n",
        "fashion_mnist = keras.datasets.fashion_mnist\n",
        "\n",
        "(train_images, train_labels), (test_images, test_labels) = fashion_mnist.load_data()\n",
        "\n",
        "train_images = train_images / 255.0\n",
        "test_images = test_images / 255.0\n",
        "\n",
        "# Used Wocjan's notebooks and models as a starting point"
      ],
      "execution_count": 1,
      "outputs": [
        {
          "output_type": "display_data",
          "data": {
            "text/html": [
              "<p style=\"color: red;\">\n",
              "The default version of TensorFlow in Colab will soon switch to TensorFlow 2.x.<br>\n",
              "We recommend you <a href=\"https://www.tensorflow.org/guide/migrate\" target=\"_blank\">upgrade</a> now \n",
              "or ensure your notebook will continue to use TensorFlow 1.x via the <code>%tensorflow_version 1.x</code> magic:\n",
              "<a href=\"https://colab.research.google.com/notebooks/tensorflow_version.ipynb\" target=\"_blank\">more info</a>.</p>\n"
            ],
            "text/plain": [
              "<IPython.core.display.HTML object>"
            ]
          },
          "metadata": {
            "tags": []
          }
        }
      ]
    },
    {
      "cell_type": "markdown",
      "metadata": {
        "id": "OA975wHjOJI-",
        "colab_type": "text"
      },
      "source": [
        "#Goodfit Model"
      ]
    },
    {
      "cell_type": "code",
      "metadata": {
        "id": "ZX6SGTpMOIKN",
        "colab_type": "code",
        "outputId": "5393a2e4-02b6-4371-f226-15b747e81618",
        "colab": {
          "base_uri": "https://localhost:8080/",
          "height": 1000
        }
      },
      "source": [
        "# Added dropout to reduce overfitting\n",
        "model = keras.Sequential([\n",
        "    keras.layers.Flatten(input_shape=(28, 28)),\n",
        "    keras.layers.Dense(128, activation=tf.nn.relu),\n",
        "    keras.layers.Dropout(0.5),\n",
        "    keras.layers.Dense(64, activation=tf.nn.relu),\n",
        "    keras.layers.Dropout(0.3),\n",
        "    keras.layers.Dense(32, activation=tf.nn.relu),\n",
        "    keras.layers.Dense(10, activation=tf.nn.softmax)\n",
        "])\n",
        "\n",
        "# compile the model\n",
        "model.compile(optimizer='adam',\n",
        "             loss='sparse_categorical_crossentropy',\n",
        "             metrics=['accuracy'])\n",
        "\n",
        "# train the model\n",
        "epochs = 30\n",
        "history = model.fit(train_images, \n",
        "                      train_labels, \n",
        "                      epochs=epochs,  \n",
        "                      validation_data=(test_images, test_labels))"
      ],
      "execution_count": 2,
      "outputs": [
        {
          "output_type": "stream",
          "text": [
            "WARNING:tensorflow:From /usr/local/lib/python3.6/dist-packages/tensorflow_core/python/ops/resource_variable_ops.py:1630: calling BaseResourceVariable.__init__ (from tensorflow.python.ops.resource_variable_ops) with constraint is deprecated and will be removed in a future version.\n",
            "Instructions for updating:\n",
            "If using Keras pass *_constraint arguments to layers.\n",
            "Train on 60000 samples, validate on 10000 samples\n",
            "Epoch 1/30\n",
            "60000/60000 [==============================] - 8s 131us/sample - loss: 0.7527 - acc: 0.7232 - val_loss: 0.5161 - val_acc: 0.8068\n",
            "Epoch 2/30\n",
            "60000/60000 [==============================] - 8s 129us/sample - loss: 0.5439 - acc: 0.8054 - val_loss: 0.4542 - val_acc: 0.8328\n",
            "Epoch 3/30\n",
            "60000/60000 [==============================] - 8s 126us/sample - loss: 0.4962 - acc: 0.8227 - val_loss: 0.4311 - val_acc: 0.8436\n",
            "Epoch 4/30\n",
            "60000/60000 [==============================] - 8s 128us/sample - loss: 0.4745 - acc: 0.8307 - val_loss: 0.4099 - val_acc: 0.8531\n",
            "Epoch 5/30\n",
            "60000/60000 [==============================] - 8s 129us/sample - loss: 0.4597 - acc: 0.8349 - val_loss: 0.4032 - val_acc: 0.8530\n",
            "Epoch 6/30\n",
            "60000/60000 [==============================] - 8s 128us/sample - loss: 0.4438 - acc: 0.8401 - val_loss: 0.3922 - val_acc: 0.8601\n",
            "Epoch 7/30\n",
            "60000/60000 [==============================] - 8s 127us/sample - loss: 0.4325 - acc: 0.8443 - val_loss: 0.3871 - val_acc: 0.8605\n",
            "Epoch 8/30\n",
            "60000/60000 [==============================] - 8s 127us/sample - loss: 0.4262 - acc: 0.8458 - val_loss: 0.3967 - val_acc: 0.8534\n",
            "Epoch 9/30\n",
            "60000/60000 [==============================] - 8s 127us/sample - loss: 0.4155 - acc: 0.8506 - val_loss: 0.3830 - val_acc: 0.8591\n",
            "Epoch 10/30\n",
            "60000/60000 [==============================] - 8s 127us/sample - loss: 0.4130 - acc: 0.8497 - val_loss: 0.3785 - val_acc: 0.8609\n",
            "Epoch 11/30\n",
            "60000/60000 [==============================] - 8s 127us/sample - loss: 0.4078 - acc: 0.8521 - val_loss: 0.3831 - val_acc: 0.8630\n",
            "Epoch 12/30\n",
            "60000/60000 [==============================] - 8s 128us/sample - loss: 0.4048 - acc: 0.8538 - val_loss: 0.3706 - val_acc: 0.8608\n",
            "Epoch 13/30\n",
            "60000/60000 [==============================] - 8s 129us/sample - loss: 0.3998 - acc: 0.8547 - val_loss: 0.3662 - val_acc: 0.8700\n",
            "Epoch 14/30\n",
            "60000/60000 [==============================] - 8s 128us/sample - loss: 0.3951 - acc: 0.8566 - val_loss: 0.3767 - val_acc: 0.8619\n",
            "Epoch 15/30\n",
            "60000/60000 [==============================] - 8s 128us/sample - loss: 0.3903 - acc: 0.8594 - val_loss: 0.3681 - val_acc: 0.8649\n",
            "Epoch 16/30\n",
            "60000/60000 [==============================] - 8s 128us/sample - loss: 0.3901 - acc: 0.8588 - val_loss: 0.3643 - val_acc: 0.8676\n",
            "Epoch 17/30\n",
            "60000/60000 [==============================] - 8s 134us/sample - loss: 0.3865 - acc: 0.8601 - val_loss: 0.3646 - val_acc: 0.8665\n",
            "Epoch 18/30\n",
            "60000/60000 [==============================] - 8s 127us/sample - loss: 0.3822 - acc: 0.8602 - val_loss: 0.3606 - val_acc: 0.8709\n",
            "Epoch 19/30\n",
            "60000/60000 [==============================] - 8s 128us/sample - loss: 0.3814 - acc: 0.8609 - val_loss: 0.3679 - val_acc: 0.8673\n",
            "Epoch 20/30\n",
            "60000/60000 [==============================] - 8s 129us/sample - loss: 0.3784 - acc: 0.8619 - val_loss: 0.3673 - val_acc: 0.8686\n",
            "Epoch 21/30\n",
            "60000/60000 [==============================] - 8s 129us/sample - loss: 0.3746 - acc: 0.8631 - val_loss: 0.3645 - val_acc: 0.8658\n",
            "Epoch 22/30\n",
            "60000/60000 [==============================] - 8s 128us/sample - loss: 0.3742 - acc: 0.8633 - val_loss: 0.3627 - val_acc: 0.8723\n",
            "Epoch 23/30\n",
            "60000/60000 [==============================] - 8s 129us/sample - loss: 0.3703 - acc: 0.8661 - val_loss: 0.3608 - val_acc: 0.8734\n",
            "Epoch 24/30\n",
            "60000/60000 [==============================] - 8s 129us/sample - loss: 0.3674 - acc: 0.8662 - val_loss: 0.3590 - val_acc: 0.8729\n",
            "Epoch 25/30\n",
            "60000/60000 [==============================] - 8s 129us/sample - loss: 0.3679 - acc: 0.8663 - val_loss: 0.3541 - val_acc: 0.8720\n",
            "Epoch 26/30\n",
            "60000/60000 [==============================] - 8s 125us/sample - loss: 0.3667 - acc: 0.8654 - val_loss: 0.3612 - val_acc: 0.8698\n",
            "Epoch 27/30\n",
            "60000/60000 [==============================] - 8s 127us/sample - loss: 0.3679 - acc: 0.8659 - val_loss: 0.3548 - val_acc: 0.8721\n",
            "Epoch 28/30\n",
            "60000/60000 [==============================] - 8s 128us/sample - loss: 0.3606 - acc: 0.8675 - val_loss: 0.3493 - val_acc: 0.8744\n",
            "Epoch 29/30\n",
            "60000/60000 [==============================] - 8s 130us/sample - loss: 0.3593 - acc: 0.8687 - val_loss: 0.3486 - val_acc: 0.8755\n",
            "Epoch 30/30\n",
            "60000/60000 [==============================] - 8s 137us/sample - loss: 0.3571 - acc: 0.8706 - val_loss: 0.3517 - val_acc: 0.8741\n"
          ],
          "name": "stdout"
        }
      ]
    },
    {
      "cell_type": "markdown",
      "metadata": {
        "id": "mORb9IwPP7oE",
        "colab_type": "text"
      },
      "source": [
        "## Evaluate accuracy"
      ]
    },
    {
      "cell_type": "code",
      "metadata": {
        "id": "rlKIF6ijOkiE",
        "colab_type": "code",
        "outputId": "b0adefd8-2ae7-445d-89db-190034411371",
        "colab": {
          "base_uri": "https://localhost:8080/",
          "height": 50
        }
      },
      "source": [
        "test_loss, test_acc = model.evaluate(test_images, test_labels)\n",
        "\n",
        "print('Test accuracy:', test_acc)"
      ],
      "execution_count": 3,
      "outputs": [
        {
          "output_type": "stream",
          "text": [
            "10000/10000 [==============================] - 1s 75us/sample - loss: 0.3517 - acc: 0.8741\n",
            "Test accuracy: 0.8741\n"
          ],
          "name": "stdout"
        }
      ]
    },
    {
      "cell_type": "markdown",
      "metadata": {
        "id": "GqbGdV6oXEyP",
        "colab_type": "text"
      },
      "source": [
        "## Training/test loss/accuracy during training"
      ]
    },
    {
      "cell_type": "code",
      "metadata": {
        "id": "3b5OCE5YTrEc",
        "colab_type": "code",
        "colab": {}
      },
      "source": [
        "history_dict = history.history\n",
        "loss_values = history_dict['loss']\n",
        "test_loss_values = history_dict['val_loss']\n",
        "epochs_range = range(1, epochs+1)"
      ],
      "execution_count": 0,
      "outputs": []
    },
    {
      "cell_type": "code",
      "metadata": {
        "id": "y98AOblYT3Pk",
        "colab_type": "code",
        "outputId": "89d4c638-68c5-4ccf-fc9b-58020eabb87e",
        "colab": {
          "base_uri": "https://localhost:8080/",
          "height": 0
        }
      },
      "source": [
        "plt.plot(epochs_range, loss_values, 'bo', label='Training loss')\n",
        "plt.plot(epochs_range, test_loss_values, 'ro', label='Test loss')\n",
        "plt.title('Training and test loss')\n",
        "plt.xlabel('Epochs')\n",
        "plt.ylabel('Loss')\n",
        "plt.legend()\n",
        "plt.show()"
      ],
      "execution_count": 5,
      "outputs": [
        {
          "output_type": "display_data",
          "data": {
            "image/png": "[encoded data removed]",
            "text/plain": [
              "<Figure size 432x288 with 1 Axes>"
            ]
          },
          "metadata": {
            "tags": []
          }
        }
      ]
    },
    {
      "cell_type": "code",
      "metadata": {
        "id": "790AkDaTWuZU",
        "colab_type": "code",
        "colab": {}
      },
      "source": [
        "acc_values = history_dict['acc']\n",
        "test_acc_values = history_dict['val_acc']"
      ],
      "execution_count": 0,
      "outputs": []
    },
    {
      "cell_type": "markdown",
      "metadata": {
        "id": "cTn8Kt8Am1qX",
        "colab_type": "text"
      },
      "source": [
        "## Training and test accurarcy"
      ]
    },
    {
      "cell_type": "code",
      "metadata": {
        "id": "7BkIfPQ4W39E",
        "colab_type": "code",
        "outputId": "88f9e9bf-6a0d-4717-a89e-58f0b696a907",
        "colab": {
          "base_uri": "https://localhost:8080/",
          "height": 0
        }
      },
      "source": [
        "plt.plot(epochs_range, acc_values, 'bo', label='Training accuracy')\n",
        "plt.plot(epochs_range, test_acc_values, 'ro', label='Test accuracy')\n",
        "plt.title('Training and test accuracy')\n",
        "plt.xlabel('Epochs')\n",
        "plt.ylabel('Accuracy')\n",
        "plt.legend()\n",
        "plt.show()"
      ],
      "execution_count": 7,
      "outputs": [
        {
          "output_type": "display_data",
          "data": {
            "image/png": "[encoded data removed]",
            "text/plain": [
              "<Figure size 432x288 with 1 Axes>"
            ]
          },
          "metadata": {
            "tags": []
          }
        }
      ]
    },
    {
      "cell_type": "markdown",
      "metadata": {
        "id": "ROlYRKfGm7FL",
        "colab_type": "text"
      },
      "source": [
        "# Overfit Model\n",
        "\n"
      ]
    },
    {
      "cell_type": "code",
      "metadata": {
        "id": "bVS5K53lrwOm",
        "colab_type": "code",
        "colab": {
          "base_uri": "https://localhost:8080/",
          "height": 1000
        },
        "outputId": "e53bc513-9bfc-4d22-e5f4-311898f8574d"
      },
      "source": [
        "# set up the layers\n",
        "model_overfit = keras.Sequential([\n",
        "    keras.layers.Flatten(input_shape=(28, 28)),\n",
        "    keras.layers.Dense(128, activation=tf.nn.relu),\n",
        "    keras.layers.Dense(128, activation=tf.nn.relu),\n",
        "    keras.layers.Dense(10, activation=tf.nn.softmax)\n",
        "])\n",
        "\n",
        "# compile the model\n",
        "model_overfit.compile(optimizer='adam',\n",
        "             loss='sparse_categorical_crossentropy',\n",
        "             metrics=['accuracy'])\n",
        "\n",
        "# train the model\n",
        "epochs = 30\n",
        "history_overfit = model_overfit.fit(train_images, \n",
        "                      train_labels, \n",
        "                      epochs=epochs,  \n",
        "                      validation_data=(test_images, test_labels))"
      ],
      "execution_count": 8,
      "outputs": [
        {
          "output_type": "stream",
          "text": [
            "Train on 60000 samples, validate on 10000 samples\n",
            "Epoch 1/30\n",
            "60000/60000 [==============================] - 7s 118us/sample - loss: 0.4803 - acc: 0.8285 - val_loss: 0.4287 - val_acc: 0.8445\n",
            "Epoch 2/30\n",
            "60000/60000 [==============================] - 7s 115us/sample - loss: 0.3655 - acc: 0.8664 - val_loss: 0.3835 - val_acc: 0.8598\n",
            "Epoch 3/30\n",
            "60000/60000 [==============================] - 7s 116us/sample - loss: 0.3301 - acc: 0.8780 - val_loss: 0.3654 - val_acc: 0.8740\n",
            "Epoch 4/30\n",
            "60000/60000 [==============================] - 7s 113us/sample - loss: 0.3095 - acc: 0.8851 - val_loss: 0.3573 - val_acc: 0.8706\n",
            "Epoch 5/30\n",
            "60000/60000 [==============================] - 7s 117us/sample - loss: 0.2927 - acc: 0.8916 - val_loss: 0.3447 - val_acc: 0.8779\n",
            "Epoch 6/30\n",
            "60000/60000 [==============================] - 7s 114us/sample - loss: 0.2765 - acc: 0.8964 - val_loss: 0.3522 - val_acc: 0.8735\n",
            "Epoch 7/30\n",
            "60000/60000 [==============================] - 7s 114us/sample - loss: 0.2636 - acc: 0.9010 - val_loss: 0.3353 - val_acc: 0.8822\n",
            "Epoch 8/30\n",
            "60000/60000 [==============================] - 7s 115us/sample - loss: 0.2503 - acc: 0.9055 - val_loss: 0.3290 - val_acc: 0.8852\n",
            "Epoch 9/30\n",
            "60000/60000 [==============================] - 7s 117us/sample - loss: 0.2425 - acc: 0.9081 - val_loss: 0.3600 - val_acc: 0.8779\n",
            "Epoch 10/30\n",
            "60000/60000 [==============================] - 7s 117us/sample - loss: 0.2325 - acc: 0.9125 - val_loss: 0.3514 - val_acc: 0.8784\n",
            "Epoch 11/30\n",
            "60000/60000 [==============================] - 7s 116us/sample - loss: 0.2251 - acc: 0.9143 - val_loss: 0.3385 - val_acc: 0.8841\n",
            "Epoch 12/30\n",
            "60000/60000 [==============================] - 7s 115us/sample - loss: 0.2153 - acc: 0.9177 - val_loss: 0.3543 - val_acc: 0.8815\n",
            "Epoch 13/30\n",
            "60000/60000 [==============================] - 7s 116us/sample - loss: 0.2098 - acc: 0.9204 - val_loss: 0.3472 - val_acc: 0.8844\n",
            "Epoch 14/30\n",
            "60000/60000 [==============================] - 7s 115us/sample - loss: 0.2021 - acc: 0.9222 - val_loss: 0.3417 - val_acc: 0.8876\n",
            "Epoch 15/30\n",
            "60000/60000 [==============================] - 7s 114us/sample - loss: 0.1957 - acc: 0.9252 - val_loss: 0.3605 - val_acc: 0.8862\n",
            "Epoch 16/30\n",
            "60000/60000 [==============================] - 7s 116us/sample - loss: 0.1895 - acc: 0.9265 - val_loss: 0.3706 - val_acc: 0.8839\n",
            "Epoch 17/30\n",
            "60000/60000 [==============================] - 7s 115us/sample - loss: 0.1835 - acc: 0.9298 - val_loss: 0.3904 - val_acc: 0.8853\n",
            "Epoch 18/30\n",
            "60000/60000 [==============================] - 7s 113us/sample - loss: 0.1792 - acc: 0.9319 - val_loss: 0.3849 - val_acc: 0.8844\n",
            "Epoch 19/30\n",
            "60000/60000 [==============================] - 7s 115us/sample - loss: 0.1740 - acc: 0.9337 - val_loss: 0.3531 - val_acc: 0.8967\n",
            "Epoch 20/30\n",
            "60000/60000 [==============================] - 7s 116us/sample - loss: 0.1697 - acc: 0.9336 - val_loss: 0.4101 - val_acc: 0.8838\n",
            "Epoch 21/30\n",
            "60000/60000 [==============================] - 7s 115us/sample - loss: 0.1615 - acc: 0.9378 - val_loss: 0.4253 - val_acc: 0.8856\n",
            "Epoch 22/30\n",
            "60000/60000 [==============================] - 7s 116us/sample - loss: 0.1588 - acc: 0.9390 - val_loss: 0.3985 - val_acc: 0.8887\n",
            "Epoch 23/30\n",
            "60000/60000 [==============================] - 7s 115us/sample - loss: 0.1549 - acc: 0.9415 - val_loss: 0.4227 - val_acc: 0.8825\n",
            "Epoch 24/30\n",
            "60000/60000 [==============================] - 7s 118us/sample - loss: 0.1500 - acc: 0.9423 - val_loss: 0.4038 - val_acc: 0.8899\n",
            "Epoch 25/30\n",
            "60000/60000 [==============================] - 7s 115us/sample - loss: 0.1475 - acc: 0.9437 - val_loss: 0.3992 - val_acc: 0.8928\n",
            "Epoch 26/30\n",
            "60000/60000 [==============================] - 7s 117us/sample - loss: 0.1457 - acc: 0.9448 - val_loss: 0.4183 - val_acc: 0.8889\n",
            "Epoch 27/30\n",
            "60000/60000 [==============================] - 7s 116us/sample - loss: 0.1390 - acc: 0.9463 - val_loss: 0.4223 - val_acc: 0.8855\n",
            "Epoch 28/30\n",
            "60000/60000 [==============================] - 7s 116us/sample - loss: 0.1375 - acc: 0.9473 - val_loss: 0.4073 - val_acc: 0.8893\n",
            "Epoch 29/30\n",
            "60000/60000 [==============================] - 7s 120us/sample - loss: 0.1316 - acc: 0.9487 - val_loss: 0.4366 - val_acc: 0.8913\n",
            "Epoch 30/30\n",
            "60000/60000 [==============================] - 7s 114us/sample - loss: 0.1329 - acc: 0.9485 - val_loss: 0.4485 - val_acc: 0.8881\n"
          ],
          "name": "stdout"
        }
      ]
    },
    {
      "cell_type": "markdown",
      "metadata": {
        "id": "8PD15Spo9GET",
        "colab_type": "text"
      },
      "source": [
        "## Evaluate accuracy"
      ]
    },
    {
      "cell_type": "code",
      "metadata": {
        "id": "-jHGncmKr9ca",
        "colab_type": "code",
        "colab": {
          "base_uri": "https://localhost:8080/",
          "height": 50
        },
        "outputId": "d2d557d3-0da5-4fdb-e1d9-601b4e4d41ed"
      },
      "source": [
        "test_loss_overfit, test_acc_overfit = model_overfit.evaluate(test_images, test_labels)\n",
        "\n",
        "print('Test accuracy:', test_acc_overfit)"
      ],
      "execution_count": 9,
      "outputs": [
        {
          "output_type": "stream",
          "text": [
            "10000/10000 [==============================] - 1s 71us/sample - loss: 0.4485 - acc: 0.8881\n",
            "Test accuracy: 0.8881\n"
          ],
          "name": "stdout"
        }
      ]
    },
    {
      "cell_type": "markdown",
      "metadata": {
        "id": "lFuaoU9Z9IAh",
        "colab_type": "text"
      },
      "source": [
        "## Training/test loss/accuracy during training"
      ]
    },
    {
      "cell_type": "code",
      "metadata": {
        "id": "gpqpD4eYr-Ja",
        "colab_type": "code",
        "colab": {
          "base_uri": "https://localhost:8080/",
          "height": 295
        },
        "outputId": "7ed8f07c-483f-458e-a6d1-9f5d1645c7df"
      },
      "source": [
        "history_dict_overfit = history_overfit.history\n",
        "loss_values_overfit = history_dict_overfit['loss']\n",
        "test_loss_values_overfit = history_dict_overfit['val_loss']\n",
        "epochs_range = range(1, epochs+1)\n",
        "plt.plot(epochs_range, loss_values_overfit, 'bo', label='Training loss')\n",
        "plt.plot(epochs_range, test_loss_values_overfit, 'ro', label='Test loss')\n",
        "plt.title('Training and test loss')\n",
        "plt.xlabel('Epochs')\n",
        "plt.ylabel('Loss')\n",
        "plt.legend()\n",
        "plt.show()"
      ],
      "execution_count": 10,
      "outputs": [
        {
          "output_type": "display_data",
          "data": {
            "image/png": "[encoded data removed]",
            "text/plain": [
              "<Figure size 432x288 with 1 Axes>"
            ]
          },
          "metadata": {
            "tags": []
          }
        }
      ]
    },
    {
      "cell_type": "markdown",
      "metadata": {
        "id": "2gVQ9TeU9VVN",
        "colab_type": "text"
      },
      "source": [
        "## Training and test accuracy"
      ]
    },
    {
      "cell_type": "code",
      "metadata": {
        "id": "Z7oEqIvTsCra",
        "colab_type": "code",
        "colab": {
          "base_uri": "https://localhost:8080/",
          "height": 295
        },
        "outputId": "0624bd51-4fcf-4836-d2fc-dfb699bbc748"
      },
      "source": [
        "acc_values_overfit = history_dict_overfit['acc']\n",
        "test_acc_values_overfit = history_dict_overfit['val_acc']\n",
        "plt.plot(epochs_range, acc_values_overfit, 'bo', label='Training accuracy')\n",
        "plt.plot(epochs_range, test_acc_values_overfit, 'ro', label='Test accuracy')\n",
        "plt.title('Training and test accuracy')\n",
        "plt.xlabel('Epochs')\n",
        "plt.ylabel('Accuracy')\n",
        "plt.legend()\n",
        "plt.show()"
      ],
      "execution_count": 11,
      "outputs": [
        {
          "output_type": "display_data",
          "data": {
            "image/png": "[encoded data removed]",
            "text/plain": [
              "<Figure size 432x288 with 1 Axes>"
            ]
          },
          "metadata": {
            "tags": []
          }
        }
      ]
    },
    {
      "cell_type": "markdown",
      "metadata": {
        "id": "rbLo3T_7tedQ",
        "colab_type": "text"
      },
      "source": [
        "# Underfit Model"
      ]
    },
    {
      "cell_type": "code",
      "metadata": {
        "id": "0N1Ur74JtltD",
        "colab_type": "code",
        "colab": {
          "base_uri": "https://localhost:8080/",
          "height": 370
        },
        "outputId": "47b8f8f8-4152-4e9a-8ebe-ce849b355192"
      },
      "source": [
        "# set up the layers\n",
        "\n",
        "model_underfit = keras.Sequential([\n",
        "    keras.layers.Flatten(input_shape=(28, 28)),\n",
        "    keras.layers.Dense(10, activation=tf.nn.relu),\n",
        "    keras.layers.Dropout(0.5),\n",
        "    keras.layers.Dense(10, activation=tf.nn.softmax)\n",
        "])\n",
        "\n",
        "# compile the model\n",
        "model_underfit.compile(optimizer='adam',\n",
        "             loss='sparse_categorical_crossentropy',\n",
        "             metrics=['accuracy'])\n",
        "\n",
        "# train the model\n",
        "epochs = 10\n",
        "history_underfit = model_underfit.fit(train_images, \n",
        "                      train_labels, \n",
        "                      epochs=epochs,  \n",
        "                      validation_data=(test_images, test_labels))"
      ],
      "execution_count": 12,
      "outputs": [
        {
          "output_type": "stream",
          "text": [
            "Train on 60000 samples, validate on 10000 samples\n",
            "Epoch 1/10\n",
            "60000/60000 [==============================] - 7s 111us/sample - loss: 1.4410 - acc: 0.4555 - val_loss: 0.8557 - val_acc: 0.7192\n",
            "Epoch 2/10\n",
            "60000/60000 [==============================] - 7s 110us/sample - loss: 1.2558 - acc: 0.5091 - val_loss: 0.7924 - val_acc: 0.7315\n",
            "Epoch 3/10\n",
            "60000/60000 [==============================] - 7s 110us/sample - loss: 1.2311 - acc: 0.5159 - val_loss: 0.7842 - val_acc: 0.7320\n",
            "Epoch 4/10\n",
            "60000/60000 [==============================] - 7s 109us/sample - loss: 1.2091 - acc: 0.5281 - val_loss: 0.7649 - val_acc: 0.7355\n",
            "Epoch 5/10\n",
            "60000/60000 [==============================] - 7s 110us/sample - loss: 1.1980 - acc: 0.5330 - val_loss: 0.7511 - val_acc: 0.7351\n",
            "Epoch 6/10\n",
            "60000/60000 [==============================] - 7s 109us/sample - loss: 1.1933 - acc: 0.5346 - val_loss: 0.7410 - val_acc: 0.7371\n",
            "Epoch 7/10\n",
            "60000/60000 [==============================] - 7s 109us/sample - loss: 1.1943 - acc: 0.5326 - val_loss: 0.7614 - val_acc: 0.7359\n",
            "Epoch 8/10\n",
            "60000/60000 [==============================] - 6s 107us/sample - loss: 1.1879 - acc: 0.5358 - val_loss: 0.7877 - val_acc: 0.7240\n",
            "Epoch 9/10\n",
            "60000/60000 [==============================] - 7s 109us/sample - loss: 1.1848 - acc: 0.5371 - val_loss: 0.7580 - val_acc: 0.7354\n",
            "Epoch 10/10\n",
            "60000/60000 [==============================] - 7s 109us/sample - loss: 1.1815 - acc: 0.5397 - val_loss: 0.7523 - val_acc: 0.7375\n"
          ],
          "name": "stdout"
        }
      ]
    },
    {
      "cell_type": "markdown",
      "metadata": {
        "id": "Lww912VV9PPy",
        "colab_type": "text"
      },
      "source": [
        "## Evaluate accuracy"
      ]
    },
    {
      "cell_type": "code",
      "metadata": {
        "id": "YcS_29ONtr6N",
        "colab_type": "code",
        "colab": {
          "base_uri": "https://localhost:8080/",
          "height": 50
        },
        "outputId": "a9a19a5a-f658-4584-9f27-4c216fd25109"
      },
      "source": [
        "test_loss_underfit, test_acc_underfit = model_underfit.evaluate(test_images, test_labels)\n",
        "\n",
        "print('Test accuracy:', test_acc_underfit)"
      ],
      "execution_count": 13,
      "outputs": [
        {
          "output_type": "stream",
          "text": [
            "10000/10000 [==============================] - 1s 74us/sample - loss: 0.7523 - acc: 0.7375\n",
            "Test accuracy: 0.7375\n"
          ],
          "name": "stdout"
        }
      ]
    },
    {
      "cell_type": "markdown",
      "metadata": {
        "id": "aAzWhihV9OQk",
        "colab_type": "text"
      },
      "source": [
        "## Training/test loss/accuracy during training"
      ]
    },
    {
      "cell_type": "code",
      "metadata": {
        "id": "Ak1w67kMttjZ",
        "colab_type": "code",
        "colab": {
          "base_uri": "https://localhost:8080/",
          "height": 295
        },
        "outputId": "14f3aae7-281b-417f-cb91-527e2ceebc61"
      },
      "source": [
        "history_dict_underfit = history_underfit.history\n",
        "loss_values_underfit = history_dict_underfit['loss']\n",
        "test_loss_values_underfit = history_dict_underfit['val_loss']\n",
        "epochs_range = range(1, epochs+1)\n",
        "plt.plot(epochs_range, loss_values_underfit, 'bo', label='Training loss')\n",
        "plt.plot(epochs_range, test_loss_values_underfit, 'ro', label='Test loss')\n",
        "plt.title('Training and test loss')\n",
        "plt.xlabel('Epochs')\n",
        "plt.ylabel('Loss')\n",
        "plt.legend()\n",
        "plt.show()"
      ],
      "execution_count": 14,
      "outputs": [
        {
          "output_type": "display_data",
          "data": {
            "image/png": "[encoded data removed]",
            "text/plain": [
              "<Figure size 432x288 with 1 Axes>"
            ]
          },
          "metadata": {
            "tags": []
          }
        }
      ]
    },
    {
      "cell_type": "markdown",
      "metadata": {
        "id": "s3s2YFHS9Rt7",
        "colab_type": "text"
      },
      "source": [
        "## Training and test accuracy"
      ]
    },
    {
      "cell_type": "code",
      "metadata": {
        "id": "-hXEmrmztwXB",
        "colab_type": "code",
        "colab": {
          "base_uri": "https://localhost:8080/",
          "height": 295
        },
        "outputId": "794e2a6d-de12-4086-fd7e-a2aa03e7388d"
      },
      "source": [
        "acc_values_underfit = history_dict_underfit['acc']\n",
        "test_acc_values_underfit = history_dict_underfit['val_acc']\n",
        "plt.plot(epochs_range, acc_values_underfit, 'bo', label='Training accuracy')\n",
        "plt.plot(epochs_range, test_acc_values_underfit, 'ro', label='Test accuracy')\n",
        "plt.title('Training and test accuracy')\n",
        "plt.xlabel('Epochs')\n",
        "plt.ylabel('Accuracy')\n",
        "plt.legend()\n",
        "plt.show()"
      ],
      "execution_count": 15,
      "outputs": [
        {
          "output_type": "display_data",
          "data": {
            "image/png": "[encoded data removed]",
            "text/plain": [
              "<Figure size 432x288 with 1 Axes>"
            ]
          },
          "metadata": {
            "tags": []
          }
        }
      ]
    }
  ]
}